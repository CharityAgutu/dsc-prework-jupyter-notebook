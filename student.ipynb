{
  "cells": [
    {
      "cell_type": "markdown",
      "metadata": {
        "id": "view-in-github",
        "colab_type": "text"
      },
      "source": [
        "<a href=\"https://colab.research.google.com/github/CharityAgutu/dsc-prework-jupyter-notebook/blob/master/student.ipynb\" target=\"_parent\"><img src=\"https://colab.research.google.com/assets/colab-badge.svg\" alt=\"Open In Colab\"/></a>"
      ]
    },
    {
      "cell_type": "code",
      "execution_count": null,
      "metadata": {
        "id": "EGGg3Oxg0dBi"
      },
      "outputs": [],
      "source": [
        "# Your code here - remember to use markdown cells for comments as well!"
      ]
    },
    {
      "cell_type": "markdown",
      "metadata": {
        "id": "gti2--Y50dBe"
      },
      "source": [
        "## Final Project Submission\n",
        "\n",
        "Please fill out:\n",
        "* Student name: charity Martha Agutu\n",
        "* Student pace: part time\n",
        "* Scheduled project review date/time:22nd July-28th July\n",
        "* Instructor name:Samwel Jane,Veronica Isiaho\n",
        "* Blog post URL:\n"
      ]
    },
    {
      "cell_type": "markdown",
      "metadata": {
        "id": "SiyYpIKlgaUY"
      },
      "source": [
        "# **EXPLORATORY DATA ANALYSIS ON MICROSOFT'S UPCOMING NEW MOVIE STUDIO**"
      ]
    },
    {
      "cell_type": "markdown",
      "metadata": {
        "id": "FI6X1QRmia_V"
      },
      "source": [
        "**Business Problem**"
      ]
    },
    {
      "cell_type": "markdown",
      "metadata": {
        "id": "wShzdgjijX67"
      },
      "source": [
        "Microsoft sees all the big companies creating original video content and they want to get in on the fun.They have decided to create a movie studio,but they don't know anything about creating movies.We are charged with exploring which type of field are currently doing good at the box office.We must then translate those findings into actionable insights that the head of Microsoft new movie studio can use to help decide what type of films to create"
      ]
    },
    {
      "cell_type": "markdown",
      "metadata": {
        "id": "vDjDOLiwoiZI"
      },
      "source": [
        "\n",
        "**Project Overview.**\n",
        "\n",
        "Microsoft wishes to take part in the fast developing entertainment industry.Before it ventures into the movie industry,it is wise to understand more about the movie industry and even the type of films that are doing well in the industry.This project's main goal is to help mattermost to be aware of the insights in the movie market and eventually make informed decisions on the type of films to create"
      ]
    },
    {
      "cell_type": "markdown",
      "metadata": {
        "id": "C70k05ORDU9j"
      },
      "source": [
        "**Objectives.**\n",
        "\n",
        "-To get more information about our Dataset\n",
        "\n",
        "-To clean our dataset\n",
        "\n",
        "-To explore the relations between columns\n",
        "\n",
        "-To demonsttrate the correlation between different columns"
      ]
    },
    {
      "cell_type": "markdown",
      "metadata": {
        "id": "YCODDLJz4lSq"
      },
      "source": [
        "\n",
        "\n",
        "```\n",
        "# This is formatted as code\n",
        "```\n",
        "# Accessing information about our Dataset\n",
        "**Loading** **the** **Data**\n",
        "\n",
        "Load the data in imdb.basics.csv.gz"
      ]
    },
    {
      "cell_type": "code",
      "execution_count": null,
      "metadata": {
        "id": "fiqc4r5u53jw"
      },
      "outputs": [],
      "source": [
        "#import the data\n",
        "import pandas as pd\n",
        "pd.read_csv('imdb.title.basics.csv.gz')\n",
        "df1= pd.read_csv('imdb.title.basics.csv.gz')\n",
        "\n",
        "df1"
      ]
    },
    {
      "cell_type": "markdown",
      "metadata": {
        "id": "tVTBzQ_u_c0F"
      },
      "source": [
        "Back up df1 Dataframe"
      ]
    },
    {
      "cell_type": "code",
      "execution_count": null,
      "metadata": {
        "id": "3IQH2gSWDEY1"
      },
      "outputs": [],
      "source": [
        "import pandas as pd\n",
        "import time\n",
        "\n",
        "def backup_dataframe(df, filename):\n",
        "    df.to_csv(filename, index=False)\n",
        "\n",
        "# Example usage\n",
        "while True:\n",
        "    backup_dataframe(df1, 'imdb.title.basics.csv')\n",
        "    time.sleep(3600)  # Backup every hour"
      ]
    },
    {
      "cell_type": "code",
      "execution_count": null,
      "metadata": {
        "id": "euELuTQ8uXD_"
      },
      "outputs": [],
      "source": [
        "#import the second dataset as a dataframe.\n",
        "df2= pd.read_csv('imdb.title.ratings.csv.gz')\n",
        "df2"
      ]
    },
    {
      "cell_type": "code",
      "execution_count": null,
      "metadata": {
        "id": "y5w_o2RNvIId"
      },
      "outputs": [],
      "source": []
    },
    {
      "cell_type": "markdown",
      "metadata": {
        "id": "0MHptgunIJlp"
      },
      "source": [
        "# **Merging our two Datasets as one **\n",
        "\n",
        "\n"
      ]
    },
    {
      "cell_type": "code",
      "execution_count": null,
      "metadata": {
        "colab": {
          "base_uri": "https://localhost:8080/",
          "height": 565
        },
        "id": "yccksvcTDunp",
        "outputId": "f77c3407-7e29-41a4-c807-2dfaf74c2bb4"
      },
      "outputs": [
        {
          "data": {
            "application/vnd.google.colaboratory.intrinsic+json": {
              "summary": "{\n  \"name\": \"df1_and_df2\",\n  \"rows\": 73856,\n  \"fields\": [\n    {\n      \"column\": \"tconst\",\n      \"properties\": {\n        \"dtype\": \"string\",\n        \"num_unique_values\": 73856,\n        \"samples\": [\n          \"tt1702441\",\n          \"tt6304978\",\n          \"tt4597882\"\n        ],\n        \"semantic_type\": \"\",\n        \"description\": \"\"\n      }\n    },\n    {\n      \"column\": \"primary_title\",\n      \"properties\": {\n        \"dtype\": \"string\",\n        \"num_unique_values\": 69993,\n        \"samples\": [\n          \"Zodiac Sign\",\n          \"Donor\",\n          \"Km 72\"\n        ],\n        \"semantic_type\": \"\",\n        \"description\": \"\"\n      }\n    },\n    {\n      \"column\": \"original_title\",\n      \"properties\": {\n        \"dtype\": \"string\",\n        \"num_unique_values\": 71097,\n        \"samples\": [\n          \"Desingu Raja\",\n          \"Violetta: La Emoci\\u00f3n del Concierto\",\n          \"The Path: Beyond the Physical\"\n        ],\n        \"semantic_type\": \"\",\n        \"description\": \"\"\n      }\n    },\n    {\n      \"column\": \"start_year\",\n      \"properties\": {\n        \"dtype\": \"number\",\n        \"std\": 2,\n        \"min\": 2010,\n        \"max\": 2019,\n        \"num_unique_values\": 10,\n        \"samples\": [\n          2016,\n          2019,\n          2011\n        ],\n        \"semantic_type\": \"\",\n        \"description\": \"\"\n      }\n    },\n    {\n      \"column\": \"runtime_minutes\",\n      \"properties\": {\n        \"dtype\": \"number\",\n        \"std\": 208.57411133795523,\n        \"min\": 3.0,\n        \"max\": 51420.0,\n        \"num_unique_values\": 289,\n        \"samples\": [\n          93.0,\n          330.0,\n          287.0\n        ],\n        \"semantic_type\": \"\",\n        \"description\": \"\"\n      }\n    },\n    {\n      \"column\": \"genres\",\n      \"properties\": {\n        \"dtype\": \"category\",\n        \"num_unique_values\": 923,\n        \"samples\": [\n          \"Action,Horror\",\n          \"Action,Crime,Western\",\n          \"Action\"\n        ],\n        \"semantic_type\": \"\",\n        \"description\": \"\"\n      }\n    },\n    {\n      \"column\": \"averagerating\",\n      \"properties\": {\n        \"dtype\": \"number\",\n        \"std\": 1.4749783548957056,\n        \"min\": 1.0,\n        \"max\": 10.0,\n        \"num_unique_values\": 91,\n        \"samples\": [\n          5.2,\n          5.1,\n          3.7\n        ],\n        \"semantic_type\": \"\",\n        \"description\": \"\"\n      }\n    },\n    {\n      \"column\": \"numvotes\",\n      \"properties\": {\n        \"dtype\": \"number\",\n        \"std\": 30294,\n        \"min\": 5,\n        \"max\": 1841066,\n        \"num_unique_values\": 7349,\n        \"samples\": [\n          33137,\n          2025,\n          6604\n        ],\n        \"semantic_type\": \"\",\n        \"description\": \"\"\n      }\n    }\n  ]\n}",
              "type": "dataframe",
              "variable_name": "df1_and_df2"
            },
            "text/html": [
              "\n",
              "  <div id=\"df-ad0bcf38-2bf4-44b6-88a5-23516183d640\" class=\"colab-df-container\">\n",
              "    <div>\n",
              "<style scoped>\n",
              "    .dataframe tbody tr th:only-of-type {\n",
              "        vertical-align: middle;\n",
              "    }\n",
              "\n",
              "    .dataframe tbody tr th {\n",
              "        vertical-align: top;\n",
              "    }\n",
              "\n",
              "    .dataframe thead th {\n",
              "        text-align: right;\n",
              "    }\n",
              "</style>\n",
              "<table border=\"1\" class=\"dataframe\">\n",
              "  <thead>\n",
              "    <tr style=\"text-align: right;\">\n",
              "      <th></th>\n",
              "      <th>tconst</th>\n",
              "      <th>primary_title</th>\n",
              "      <th>original_title</th>\n",
              "      <th>start_year</th>\n",
              "      <th>runtime_minutes</th>\n",
              "      <th>genres</th>\n",
              "      <th>averagerating</th>\n",
              "      <th>numvotes</th>\n",
              "    </tr>\n",
              "  </thead>\n",
              "  <tbody>\n",
              "    <tr>\n",
              "      <th>0</th>\n",
              "      <td>tt0063540</td>\n",
              "      <td>Sunghursh</td>\n",
              "      <td>Sunghursh</td>\n",
              "      <td>2013</td>\n",
              "      <td>175.0</td>\n",
              "      <td>Action,Crime,Drama</td>\n",
              "      <td>7.0</td>\n",
              "      <td>77</td>\n",
              "    </tr>\n",
              "    <tr>\n",
              "      <th>1</th>\n",
              "      <td>tt0066787</td>\n",
              "      <td>One Day Before the Rainy Season</td>\n",
              "      <td>Ashad Ka Ek Din</td>\n",
              "      <td>2019</td>\n",
              "      <td>114.0</td>\n",
              "      <td>Biography,Drama</td>\n",
              "      <td>7.2</td>\n",
              "      <td>43</td>\n",
              "    </tr>\n",
              "    <tr>\n",
              "      <th>2</th>\n",
              "      <td>tt0069049</td>\n",
              "      <td>The Other Side of the Wind</td>\n",
              "      <td>The Other Side of the Wind</td>\n",
              "      <td>2018</td>\n",
              "      <td>122.0</td>\n",
              "      <td>Drama</td>\n",
              "      <td>6.9</td>\n",
              "      <td>4517</td>\n",
              "    </tr>\n",
              "    <tr>\n",
              "      <th>3</th>\n",
              "      <td>tt0069204</td>\n",
              "      <td>Sabse Bada Sukh</td>\n",
              "      <td>Sabse Bada Sukh</td>\n",
              "      <td>2018</td>\n",
              "      <td>NaN</td>\n",
              "      <td>Comedy,Drama</td>\n",
              "      <td>6.1</td>\n",
              "      <td>13</td>\n",
              "    </tr>\n",
              "    <tr>\n",
              "      <th>4</th>\n",
              "      <td>tt0100275</td>\n",
              "      <td>The Wandering Soap Opera</td>\n",
              "      <td>La Telenovela Errante</td>\n",
              "      <td>2017</td>\n",
              "      <td>80.0</td>\n",
              "      <td>Comedy,Drama,Fantasy</td>\n",
              "      <td>6.5</td>\n",
              "      <td>119</td>\n",
              "    </tr>\n",
              "    <tr>\n",
              "      <th>...</th>\n",
              "      <td>...</td>\n",
              "      <td>...</td>\n",
              "      <td>...</td>\n",
              "      <td>...</td>\n",
              "      <td>...</td>\n",
              "      <td>...</td>\n",
              "      <td>...</td>\n",
              "      <td>...</td>\n",
              "    </tr>\n",
              "    <tr>\n",
              "      <th>73851</th>\n",
              "      <td>tt9913084</td>\n",
              "      <td>Diabolik sono io</td>\n",
              "      <td>Diabolik sono io</td>\n",
              "      <td>2019</td>\n",
              "      <td>75.0</td>\n",
              "      <td>Documentary</td>\n",
              "      <td>6.2</td>\n",
              "      <td>6</td>\n",
              "    </tr>\n",
              "    <tr>\n",
              "      <th>73852</th>\n",
              "      <td>tt9914286</td>\n",
              "      <td>Sokagin Çocuklari</td>\n",
              "      <td>Sokagin Çocuklari</td>\n",
              "      <td>2019</td>\n",
              "      <td>98.0</td>\n",
              "      <td>Drama,Family</td>\n",
              "      <td>8.7</td>\n",
              "      <td>136</td>\n",
              "    </tr>\n",
              "    <tr>\n",
              "      <th>73853</th>\n",
              "      <td>tt9914642</td>\n",
              "      <td>Albatross</td>\n",
              "      <td>Albatross</td>\n",
              "      <td>2017</td>\n",
              "      <td>NaN</td>\n",
              "      <td>Documentary</td>\n",
              "      <td>8.5</td>\n",
              "      <td>8</td>\n",
              "    </tr>\n",
              "    <tr>\n",
              "      <th>73854</th>\n",
              "      <td>tt9914942</td>\n",
              "      <td>La vida sense la Sara Amat</td>\n",
              "      <td>La vida sense la Sara Amat</td>\n",
              "      <td>2019</td>\n",
              "      <td>NaN</td>\n",
              "      <td>NaN</td>\n",
              "      <td>6.6</td>\n",
              "      <td>5</td>\n",
              "    </tr>\n",
              "    <tr>\n",
              "      <th>73855</th>\n",
              "      <td>tt9916160</td>\n",
              "      <td>Drømmeland</td>\n",
              "      <td>Drømmeland</td>\n",
              "      <td>2019</td>\n",
              "      <td>72.0</td>\n",
              "      <td>Documentary</td>\n",
              "      <td>6.5</td>\n",
              "      <td>11</td>\n",
              "    </tr>\n",
              "  </tbody>\n",
              "</table>\n",
              "<p>73856 rows × 8 columns</p>\n",
              "</div>\n",
              "    <div class=\"colab-df-buttons\">\n",
              "\n",
              "  <div class=\"colab-df-container\">\n",
              "    <button class=\"colab-df-convert\" onclick=\"convertToInteractive('df-ad0bcf38-2bf4-44b6-88a5-23516183d640')\"\n",
              "            title=\"Convert this dataframe to an interactive table.\"\n",
              "            style=\"display:none;\">\n",
              "\n",
              "  <svg xmlns=\"http://www.w3.org/2000/svg\" height=\"24px\" viewBox=\"0 -960 960 960\">\n",
              "    <path d=\"M120-120v-720h720v720H120Zm60-500h600v-160H180v160Zm220 220h160v-160H400v160Zm0 220h160v-160H400v160ZM180-400h160v-160H180v160Zm440 0h160v-160H620v160ZM180-180h160v-160H180v160Zm440 0h160v-160H620v160Z\"/>\n",
              "  </svg>\n",
              "    </button>\n",
              "\n",
              "  <style>\n",
              "    .colab-df-container {\n",
              "      display:flex;\n",
              "      gap: 12px;\n",
              "    }\n",
              "\n",
              "    .colab-df-convert {\n",
              "      background-color: #E8F0FE;\n",
              "      border: none;\n",
              "      border-radius: 50%;\n",
              "      cursor: pointer;\n",
              "      display: none;\n",
              "      fill: #1967D2;\n",
              "      height: 32px;\n",
              "      padding: 0 0 0 0;\n",
              "      width: 32px;\n",
              "    }\n",
              "\n",
              "    .colab-df-convert:hover {\n",
              "      background-color: #E2EBFA;\n",
              "      box-shadow: 0px 1px 2px rgba(60, 64, 67, 0.3), 0px 1px 3px 1px rgba(60, 64, 67, 0.15);\n",
              "      fill: #174EA6;\n",
              "    }\n",
              "\n",
              "    .colab-df-buttons div {\n",
              "      margin-bottom: 4px;\n",
              "    }\n",
              "\n",
              "    [theme=dark] .colab-df-convert {\n",
              "      background-color: #3B4455;\n",
              "      fill: #D2E3FC;\n",
              "    }\n",
              "\n",
              "    [theme=dark] .colab-df-convert:hover {\n",
              "      background-color: #434B5C;\n",
              "      box-shadow: 0px 1px 3px 1px rgba(0, 0, 0, 0.15);\n",
              "      filter: drop-shadow(0px 1px 2px rgba(0, 0, 0, 0.3));\n",
              "      fill: #FFFFFF;\n",
              "    }\n",
              "  </style>\n",
              "\n",
              "    <script>\n",
              "      const buttonEl =\n",
              "        document.querySelector('#df-ad0bcf38-2bf4-44b6-88a5-23516183d640 button.colab-df-convert');\n",
              "      buttonEl.style.display =\n",
              "        google.colab.kernel.accessAllowed ? 'block' : 'none';\n",
              "\n",
              "      async function convertToInteractive(key) {\n",
              "        const element = document.querySelector('#df-ad0bcf38-2bf4-44b6-88a5-23516183d640');\n",
              "        const dataTable =\n",
              "          await google.colab.kernel.invokeFunction('convertToInteractive',\n",
              "                                                    [key], {});\n",
              "        if (!dataTable) return;\n",
              "\n",
              "        const docLinkHtml = 'Like what you see? Visit the ' +\n",
              "          '<a target=\"_blank\" href=https://colab.research.google.com/notebooks/data_table.ipynb>data table notebook</a>'\n",
              "          + ' to learn more about interactive tables.';\n",
              "        element.innerHTML = '';\n",
              "        dataTable['output_type'] = 'display_data';\n",
              "        await google.colab.output.renderOutput(dataTable, element);\n",
              "        const docLink = document.createElement('div');\n",
              "        docLink.innerHTML = docLinkHtml;\n",
              "        element.appendChild(docLink);\n",
              "      }\n",
              "    </script>\n",
              "  </div>\n",
              "\n",
              "\n",
              "<div id=\"df-be6dd1c1-4f88-4fb4-a900-2e64a31979bf\">\n",
              "  <button class=\"colab-df-quickchart\" onclick=\"quickchart('df-be6dd1c1-4f88-4fb4-a900-2e64a31979bf')\"\n",
              "            title=\"Suggest charts\"\n",
              "            style=\"display:none;\">\n",
              "\n",
              "<svg xmlns=\"http://www.w3.org/2000/svg\" height=\"24px\"viewBox=\"0 0 24 24\"\n",
              "     width=\"24px\">\n",
              "    <g>\n",
              "        <path d=\"M19 3H5c-1.1 0-2 .9-2 2v14c0 1.1.9 2 2 2h14c1.1 0 2-.9 2-2V5c0-1.1-.9-2-2-2zM9 17H7v-7h2v7zm4 0h-2V7h2v10zm4 0h-2v-4h2v4z\"/>\n",
              "    </g>\n",
              "</svg>\n",
              "  </button>\n",
              "\n",
              "<style>\n",
              "  .colab-df-quickchart {\n",
              "      --bg-color: #E8F0FE;\n",
              "      --fill-color: #1967D2;\n",
              "      --hover-bg-color: #E2EBFA;\n",
              "      --hover-fill-color: #174EA6;\n",
              "      --disabled-fill-color: #AAA;\n",
              "      --disabled-bg-color: #DDD;\n",
              "  }\n",
              "\n",
              "  [theme=dark] .colab-df-quickchart {\n",
              "      --bg-color: #3B4455;\n",
              "      --fill-color: #D2E3FC;\n",
              "      --hover-bg-color: #434B5C;\n",
              "      --hover-fill-color: #FFFFFF;\n",
              "      --disabled-bg-color: #3B4455;\n",
              "      --disabled-fill-color: #666;\n",
              "  }\n",
              "\n",
              "  .colab-df-quickchart {\n",
              "    background-color: var(--bg-color);\n",
              "    border: none;\n",
              "    border-radius: 50%;\n",
              "    cursor: pointer;\n",
              "    display: none;\n",
              "    fill: var(--fill-color);\n",
              "    height: 32px;\n",
              "    padding: 0;\n",
              "    width: 32px;\n",
              "  }\n",
              "\n",
              "  .colab-df-quickchart:hover {\n",
              "    background-color: var(--hover-bg-color);\n",
              "    box-shadow: 0 1px 2px rgba(60, 64, 67, 0.3), 0 1px 3px 1px rgba(60, 64, 67, 0.15);\n",
              "    fill: var(--button-hover-fill-color);\n",
              "  }\n",
              "\n",
              "  .colab-df-quickchart-complete:disabled,\n",
              "  .colab-df-quickchart-complete:disabled:hover {\n",
              "    background-color: var(--disabled-bg-color);\n",
              "    fill: var(--disabled-fill-color);\n",
              "    box-shadow: none;\n",
              "  }\n",
              "\n",
              "  .colab-df-spinner {\n",
              "    border: 2px solid var(--fill-color);\n",
              "    border-color: transparent;\n",
              "    border-bottom-color: var(--fill-color);\n",
              "    animation:\n",
              "      spin 1s steps(1) infinite;\n",
              "  }\n",
              "\n",
              "  @keyframes spin {\n",
              "    0% {\n",
              "      border-color: transparent;\n",
              "      border-bottom-color: var(--fill-color);\n",
              "      border-left-color: var(--fill-color);\n",
              "    }\n",
              "    20% {\n",
              "      border-color: transparent;\n",
              "      border-left-color: var(--fill-color);\n",
              "      border-top-color: var(--fill-color);\n",
              "    }\n",
              "    30% {\n",
              "      border-color: transparent;\n",
              "      border-left-color: var(--fill-color);\n",
              "      border-top-color: var(--fill-color);\n",
              "      border-right-color: var(--fill-color);\n",
              "    }\n",
              "    40% {\n",
              "      border-color: transparent;\n",
              "      border-right-color: var(--fill-color);\n",
              "      border-top-color: var(--fill-color);\n",
              "    }\n",
              "    60% {\n",
              "      border-color: transparent;\n",
              "      border-right-color: var(--fill-color);\n",
              "    }\n",
              "    80% {\n",
              "      border-color: transparent;\n",
              "      border-right-color: var(--fill-color);\n",
              "      border-bottom-color: var(--fill-color);\n",
              "    }\n",
              "    90% {\n",
              "      border-color: transparent;\n",
              "      border-bottom-color: var(--fill-color);\n",
              "    }\n",
              "  }\n",
              "</style>\n",
              "\n",
              "  <script>\n",
              "    async function quickchart(key) {\n",
              "      const quickchartButtonEl =\n",
              "        document.querySelector('#' + key + ' button');\n",
              "      quickchartButtonEl.disabled = true;  // To prevent multiple clicks.\n",
              "      quickchartButtonEl.classList.add('colab-df-spinner');\n",
              "      try {\n",
              "        const charts = await google.colab.kernel.invokeFunction(\n",
              "            'suggestCharts', [key], {});\n",
              "      } catch (error) {\n",
              "        console.error('Error during call to suggestCharts:', error);\n",
              "      }\n",
              "      quickchartButtonEl.classList.remove('colab-df-spinner');\n",
              "      quickchartButtonEl.classList.add('colab-df-quickchart-complete');\n",
              "    }\n",
              "    (() => {\n",
              "      let quickchartButtonEl =\n",
              "        document.querySelector('#df-be6dd1c1-4f88-4fb4-a900-2e64a31979bf button');\n",
              "      quickchartButtonEl.style.display =\n",
              "        google.colab.kernel.accessAllowed ? 'block' : 'none';\n",
              "    })();\n",
              "  </script>\n",
              "</div>\n",
              "\n",
              "  <div id=\"id_209b1f7d-9484-4ac4-84a6-b0bb121bbaac\">\n",
              "    <style>\n",
              "      .colab-df-generate {\n",
              "        background-color: #E8F0FE;\n",
              "        border: none;\n",
              "        border-radius: 50%;\n",
              "        cursor: pointer;\n",
              "        display: none;\n",
              "        fill: #1967D2;\n",
              "        height: 32px;\n",
              "        padding: 0 0 0 0;\n",
              "        width: 32px;\n",
              "      }\n",
              "\n",
              "      .colab-df-generate:hover {\n",
              "        background-color: #E2EBFA;\n",
              "        box-shadow: 0px 1px 2px rgba(60, 64, 67, 0.3), 0px 1px 3px 1px rgba(60, 64, 67, 0.15);\n",
              "        fill: #174EA6;\n",
              "      }\n",
              "\n",
              "      [theme=dark] .colab-df-generate {\n",
              "        background-color: #3B4455;\n",
              "        fill: #D2E3FC;\n",
              "      }\n",
              "\n",
              "      [theme=dark] .colab-df-generate:hover {\n",
              "        background-color: #434B5C;\n",
              "        box-shadow: 0px 1px 3px 1px rgba(0, 0, 0, 0.15);\n",
              "        filter: drop-shadow(0px 1px 2px rgba(0, 0, 0, 0.3));\n",
              "        fill: #FFFFFF;\n",
              "      }\n",
              "    </style>\n",
              "    <button class=\"colab-df-generate\" onclick=\"generateWithVariable('df1_and_df2')\"\n",
              "            title=\"Generate code using this dataframe.\"\n",
              "            style=\"display:none;\">\n",
              "\n",
              "  <svg xmlns=\"http://www.w3.org/2000/svg\" height=\"24px\"viewBox=\"0 0 24 24\"\n",
              "       width=\"24px\">\n",
              "    <path d=\"M7,19H8.4L18.45,9,17,7.55,7,17.6ZM5,21V16.75L18.45,3.32a2,2,0,0,1,2.83,0l1.4,1.43a1.91,1.91,0,0,1,.58,1.4,1.91,1.91,0,0,1-.58,1.4L9.25,21ZM18.45,9,17,7.55Zm-12,3A5.31,5.31,0,0,0,4.9,8.1,5.31,5.31,0,0,0,1,6.5,5.31,5.31,0,0,0,4.9,4.9,5.31,5.31,0,0,0,6.5,1,5.31,5.31,0,0,0,8.1,4.9,5.31,5.31,0,0,0,12,6.5,5.46,5.46,0,0,0,6.5,12Z\"/>\n",
              "  </svg>\n",
              "    </button>\n",
              "    <script>\n",
              "      (() => {\n",
              "      const buttonEl =\n",
              "        document.querySelector('#id_209b1f7d-9484-4ac4-84a6-b0bb121bbaac button.colab-df-generate');\n",
              "      buttonEl.style.display =\n",
              "        google.colab.kernel.accessAllowed ? 'block' : 'none';\n",
              "\n",
              "      buttonEl.onclick = () => {\n",
              "        google.colab.notebook.generateWithVariable('df1_and_df2');\n",
              "      }\n",
              "      })();\n",
              "    </script>\n",
              "  </div>\n",
              "\n",
              "    </div>\n",
              "  </div>\n"
            ],
            "text/plain": [
              "          tconst                    primary_title              original_title  \\\n",
              "0      tt0063540                        Sunghursh                   Sunghursh   \n",
              "1      tt0066787  One Day Before the Rainy Season             Ashad Ka Ek Din   \n",
              "2      tt0069049       The Other Side of the Wind  The Other Side of the Wind   \n",
              "3      tt0069204                  Sabse Bada Sukh             Sabse Bada Sukh   \n",
              "4      tt0100275         The Wandering Soap Opera       La Telenovela Errante   \n",
              "...          ...                              ...                         ...   \n",
              "73851  tt9913084                 Diabolik sono io            Diabolik sono io   \n",
              "73852  tt9914286                Sokagin Çocuklari           Sokagin Çocuklari   \n",
              "73853  tt9914642                        Albatross                   Albatross   \n",
              "73854  tt9914942       La vida sense la Sara Amat  La vida sense la Sara Amat   \n",
              "73855  tt9916160                       Drømmeland                  Drømmeland   \n",
              "\n",
              "       start_year  runtime_minutes                genres  averagerating  \\\n",
              "0            2013            175.0    Action,Crime,Drama            7.0   \n",
              "1            2019            114.0       Biography,Drama            7.2   \n",
              "2            2018            122.0                 Drama            6.9   \n",
              "3            2018              NaN          Comedy,Drama            6.1   \n",
              "4            2017             80.0  Comedy,Drama,Fantasy            6.5   \n",
              "...           ...              ...                   ...            ...   \n",
              "73851        2019             75.0           Documentary            6.2   \n",
              "73852        2019             98.0          Drama,Family            8.7   \n",
              "73853        2017              NaN           Documentary            8.5   \n",
              "73854        2019              NaN                   NaN            6.6   \n",
              "73855        2019             72.0           Documentary            6.5   \n",
              "\n",
              "       numvotes  \n",
              "0            77  \n",
              "1            43  \n",
              "2          4517  \n",
              "3            13  \n",
              "4           119  \n",
              "...         ...  \n",
              "73851         6  \n",
              "73852       136  \n",
              "73853         8  \n",
              "73854         5  \n",
              "73855        11  \n",
              "\n",
              "[73856 rows x 8 columns]"
            ]
          },
          "execution_count": 5,
          "metadata": {},
          "output_type": "execute_result"
        }
      ],
      "source": [
        "df1= pd.read_csv('imdb.title.basics.csv.gz')\n",
        "df2= pd.read_csv('imdb.title.ratings.csv.gz')\n",
        "#Merge the dataframesusing the 'tconst' column\n",
        "df1_and_df2=pd.merge(df1,df2,on='tconst', how='inner')\n",
        "df1_and_df2\n"
      ]
    },
    {
      "cell_type": "code",
      "execution_count": null,
      "metadata": {
        "id": "TKUI5yPV5_Yx"
      },
      "outputs": [],
      "source": []
    },
    {
      "cell_type": "markdown",
      "metadata": {
        "id": "xvKo4n5o7SAc"
      },
      "source": [
        "# **Data Exploration**"
      ]
    },
    {
      "cell_type": "code",
      "execution_count": null,
      "metadata": {
        "id": "SJKabnWm-tFy"
      },
      "outputs": [],
      "source": [
        "#checking changes\n",
        "df1_and_df2.head()"
      ]
    },
    {
      "cell_type": "code",
      "execution_count": null,
      "metadata": {
        "id": "WEAAI-SR_LCJ"
      },
      "outputs": [],
      "source": [
        "df1_and_df2.tail()"
      ]
    },
    {
      "cell_type": "code",
      "execution_count": null,
      "metadata": {
        "id": "s1rF_Q-l_S6C"
      },
      "outputs": [],
      "source": [
        "df1_and_df2.info()"
      ]
    },
    {
      "cell_type": "code",
      "execution_count": null,
      "metadata": {
        "id": "YMteJy4PL8TZ"
      },
      "outputs": [],
      "source": []
    },
    {
      "cell_type": "code",
      "execution_count": null,
      "metadata": {
        "id": "KVpOYpMl_eRz"
      },
      "outputs": [],
      "source": [
        "df1_and_df2.describe()"
      ]
    },
    {
      "cell_type": "code",
      "execution_count": null,
      "metadata": {
        "id": "-xLNfvJA80dU"
      },
      "outputs": [],
      "source": [
        "#Getting to know more about our dataset\n",
        "print(df1_and_df2.shape) #to know our dataframe dimensions\n",
        "print(df1_and_df2.columns) #to know the columns\n"
      ]
    },
    {
      "cell_type": "markdown",
      "metadata": {
        "id": "1RUjiPVEMi0y"
      },
      "source": [
        "# **DATA CLEANING**\n",
        "\n",
        "Checking for duplicates"
      ]
    },
    {
      "cell_type": "code",
      "execution_count": null,
      "metadata": {
        "id": "Oh2muXQKMiPw"
      },
      "outputs": [],
      "source": [
        "#checking for duplicates\n",
        "df1_and_df2.duplicated().sum()"
      ]
    },
    {
      "cell_type": "markdown",
      "metadata": {
        "id": "vdCivtI1b5Na"
      },
      "source": []
    },
    {
      "cell_type": "code",
      "execution_count": null,
      "metadata": {
        "id": "US0WpfFscb5Q"
      },
      "outputs": [],
      "source": []
    },
    {
      "cell_type": "markdown",
      "metadata": {
        "id": "3xn_8b6KdzCd"
      },
      "source": [
        "**Missing Data Visualizations**\n",
        "\n",
        "Check the missing values or null values and replace them with zero then confirm if there are still any  missing values using seaborne heatmap"
      ]
    },
    {
      "cell_type": "code",
      "execution_count": null,
      "metadata": {
        "id": "8ktYflWqotrY"
      },
      "outputs": [],
      "source": []
    },
    {
      "cell_type": "code",
      "execution_count": null,
      "metadata": {
        "colab": {
          "base_uri": "https://localhost:8080/",
          "height": 545
        },
        "id": "R8iE3jCgoth6",
        "outputId": "530b2315-afaa-414e-badc-a66078198a09"
      },
      "outputs": [
        {
          "data": {
            "image/png": "[encoded data removed]",
            "text/plain": [
              "<Figure size 1000x600 with 1 Axes>"
            ]
          },
          "metadata": {},
          "output_type": "display_data"
        }
      ],
      "source": [
        "#checking if null or missing values have been cleaned using seaborne heatmap\n",
        "#import seaborne and matplotlib\n",
        "import seaborn as sns\n",
        "import matplotlib.pyplot as plt\n",
        "plt.figure(figsize=(10,6))\n",
        "sns.heatmap(df1_and_df2.isnull(),yticklabels=False,cbar=False,cmap='viridis')\n",
        "plt.title('Missing Data Heatmap')\n",
        "plt.show()"
      ]
    },
    {
      "cell_type": "code",
      "execution_count": null,
      "metadata": {
        "id": "o4eJGYsyNUIy"
      },
      "outputs": [],
      "source": [
        "#checking for null values\n",
        "df1_and_df2.isnull().sum()"
      ]
    },
    {
      "cell_type": "markdown",
      "metadata": {
        "id": "tUNQr0XtfnJj"
      },
      "source": [
        "**Dealing with Missing Values or null Values**\n",
        "The columns 'runtime_minutes' and the column 'genres' have missing values and  in order to handle this problem we will have to replace the missing values with zero.This is done to ensure statistical accuracy in our results.To confirm that there are no more missing values ,we will have to use a seaborn heatmap ."
      ]
    },
    {
      "cell_type": "markdown",
      "metadata": {
        "id": "CfQPKas2Nt9t"
      },
      "source": [
        "Cleaning null or Missing values in 'genres' column"
      ]
    },
    {
      "cell_type": "code",
      "execution_count": null,
      "metadata": {
        "id": "pAcwsEDmN2xV"
      },
      "outputs": [],
      "source": [
        "#Replace null values with zeros\n",
        "df1_and_df2['genres'].fillna(0,inplace=True)"
      ]
    },
    {
      "cell_type": "code",
      "execution_count": null,
      "metadata": {
        "id": "4lHuEImQQbka"
      },
      "outputs": [],
      "source": [
        "#To check if null values are replaced\n",
        "df1_and_df2.isnull().sum()"
      ]
    },
    {
      "cell_type": "markdown",
      "metadata": {
        "id": "xQdw0mEEiBSP"
      },
      "source": [
        "Cleaning null or Missing values in 'runtime_minutes' column"
      ]
    },
    {
      "cell_type": "code",
      "execution_count": null,
      "metadata": {
        "id": "YRec4MXnUNhk"
      },
      "outputs": [],
      "source": [
        "#Replace null values in 'runtime-minutes'\n",
        "df1_and_df2['runtime_minutes'].fillna(0,inplace=True)"
      ]
    },
    {
      "cell_type": "code",
      "execution_count": null,
      "metadata": {
        "id": "Ddrt1x80Vdcg"
      },
      "outputs": [],
      "source": [
        "#Check if null values are replaced\n",
        "df1_and_df2.isnull().sum()"
      ]
    },
    {
      "cell_type": "markdown",
      "metadata": {
        "id": "a_GrdKsribFB"
      },
      "source": [
        "Confirming if all the Missing Values have been Cleaned by using Seaborn Heatmap"
      ]
    },
    {
      "cell_type": "code",
      "execution_count": null,
      "metadata": {
        "id": "AKbrf8chewmD"
      },
      "outputs": [],
      "source": [
        "#checking if null or missing values have been cleaned using seaborne heatmap\n",
        "#import seaborne and matplotlib\n",
        "import seaborn as sns\n",
        "import matplotlib.pyplot as plt\n",
        "plt.figure(figsize=(10,6))\n",
        "sns.heatmap(df1_and_df2.isnull(),yticklabels=False,cbar=False,cmap='viridis')\n",
        "plt.title('Missing Data Heatmap')\n",
        "plt.show()"
      ]
    },
    {
      "cell_type": "markdown",
      "metadata": {
        "id": "pOA6pWKfevXU"
      },
      "source": [
        "More on DATA CLEANING"
      ]
    },
    {
      "cell_type": "markdown",
      "metadata": {
        "id": "iL0hODaQZi2z"
      },
      "source": [
        "Checking and aligning datatypes"
      ]
    },
    {
      "cell_type": "code",
      "execution_count": null,
      "metadata": {
        "id": "VmC-DBMeZiSM"
      },
      "outputs": [],
      "source": [
        "#checking datatypes\n",
        "df1_and_df2.dtypes"
      ]
    },
    {
      "cell_type": "code",
      "execution_count": null,
      "metadata": {
        "id": "8KWCbfHacTKf"
      },
      "outputs": [],
      "source": [
        "#change 'start_year' datatype to date time\n",
        "df1_and_df2['start_year']=pd.to_datetime(df1_and_df2['start_year'])"
      ]
    },
    {
      "cell_type": "code",
      "execution_count": null,
      "metadata": {
        "id": "19zAWuIfcoBW"
      },
      "outputs": [],
      "source": [
        "#check the new datatypes\n",
        "df1_and_df2.dtypes"
      ]
    },
    {
      "cell_type": "markdown",
      "metadata": {
        "id": "vhMalHKeY_vL"
      },
      "source": [
        "# EXPLORATORY DATA ANALYSIS"
      ]
    },
    {
      "cell_type": "markdown",
      "metadata": {
        "id": "DKg7-dJslNhB"
      },
      "source": [
        "Here we are going to do explorations on our data while aiming at getting more insights about the movie industry and answering our objectives"
      ]
    },
    {
      "cell_type": "code",
      "execution_count": null,
      "metadata": {
        "id": "mCGL-rG4d_Nc"
      },
      "outputs": [],
      "source": [
        "# Check our columns\n",
        "df1_and_df2.columns"
      ]
    },
    {
      "cell_type": "markdown",
      "metadata": {
        "id": "oBv2JWN4qBN5"
      },
      "source": [
        "**Identifying the most popular movie genre in the dataset in terms of frequency**"
      ]
    },
    {
      "cell_type": "code",
      "execution_count": null,
      "metadata": {
        "id": "on4OPL9koD8a"
      },
      "outputs": [],
      "source": [
        "#check the vaue_count of the 'genre'column\n",
        "df1_and_df2['genres'].value_counts()\n"
      ]
    },
    {
      "cell_type": "markdown",
      "metadata": {
        "id": "6-XymdJ7s063"
      },
      "source": [
        "Drama appears to be the most popular due to its high value_count.Now that we know this, we can try to visualize Drama"
      ]
    },
    {
      "cell_type": "markdown",
      "metadata": {
        "id": "KsrPY7ZZuDmR"
      },
      "source": [
        "**Visualizing the most Popular Movie Genre in Terms of Frequency**"
      ]
    },
    {
      "cell_type": "code",
      "execution_count": null,
      "metadata": {
        "id": "Mpqp98RYwYxF"
      },
      "outputs": [],
      "source": [
        "#Top 10 most popular movie genres\n",
        "#import seaborn as sns\n",
        "import seaborn as sns\n",
        "#Calculate the top 10 genres\n",
        "df1_and_df2['genres'].value_counts().head(10)\n",
        "\n",
        "top_10_genres=df1_and_df2['genres'].value_counts().head(10)\n",
        "#Create a barplot\n",
        "plt.figure(figsize=(10,6))\n",
        "sns.barplot(x=top_10_genres.index,y=top_10_genres.values,palette='viridis')\n",
        "plt.title('Top 10 Most Popular Movie Genres')\n",
        "plt.xlabel('Genre')\n",
        "plt.ylabel('Frequency')\n",
        "plt.show()"
      ]
    },
    {
      "cell_type": "markdown",
      "metadata": {
        "id": "EhD7k4pLsouh"
      },
      "source": [
        "**Find the averagerating Distribution**"
      ]
    },
    {
      "cell_type": "code",
      "execution_count": null,
      "metadata": {
        "id": "GTnuRKFHs8Xa"
      },
      "outputs": [],
      "source": [
        "#Check the value counts of the averagerating column\n",
        "df1_and_df2['averagerating'].value_counts()"
      ]
    },
    {
      "cell_type": "markdown",
      "metadata": {
        "id": "QIThTJFWxNsL"
      },
      "source": [
        "We will create a Histogram to show the distribution of the average rating"
      ]
    },
    {
      "cell_type": "code",
      "execution_count": null,
      "metadata": {
        "id": "mZjjRzwJxy8j"
      },
      "outputs": [],
      "source": [
        "import matplotlib.pyplot as plt\n",
        "import seaborn as sns\n",
        "#Create a histogram\n",
        "plt.figure(figsize=(10,6))\n",
        "sns.histplot(df1_and_df2['averagerating'],bins=20,kde=True,color='blue')\n",
        "plt.title('Average Rating Distribution')\n",
        "plt.xlabel('Average Rating')\n",
        "plt.ylabel('Frequency')\n",
        "plt.show()"
      ]
    },
    {
      "cell_type": "markdown",
      "metadata": {
        "id": "Dk9KsKbtxNow"
      },
      "source": [
        "**Identify the most popular Genre based on the Average Rating**"
      ]
    },
    {
      "cell_type": "code",
      "execution_count": null,
      "metadata": {
        "id": "PwwTMI_AAu0F"
      },
      "outputs": [],
      "source": [
        "#group the data by genres and display its corresponding\n",
        "df1_and_df2.groupby('genres')['averagerating'].mean().sort_values(ascending=False)"
      ]
    },
    {
      "cell_type": "markdown",
      "metadata": {
        "id": "EYQ5b1CksodI"
      },
      "source": [
        "**Visualize using a Bargraph**"
      ]
    },
    {
      "cell_type": "code",
      "execution_count": null,
      "metadata": {
        "id": "drn6eaQ2r0vO"
      },
      "outputs": [],
      "source": [
        "import matplotlib.pyplot as plt\n",
        "import seaborn as sns\n",
        "import pandas as pd\n",
        "\n",
        "# Assuming you have a valid dataframe named df1_and_df2\n",
        "plt.figure(figsize=(10, 6))\n",
        "genres=df1_and_df2['genres'].head(10)\n",
        "averagerating=df1_and_df2['averagerating'].head(10)\n",
        "sns.barplot(x='genres', y='averagerating', data=df1_and_df2.head(10), palette='viridis')\n",
        "plt.title('Average Rating by Genre')\n",
        "plt.xlabel('Genre')\n",
        "plt.ylabel('Average Rating')\n",
        "plt.show()"
      ]
    },
    {
      "cell_type": "code",
      "execution_count": null,
      "metadata": {
        "id": "Nv7k8CXODcS2"
      },
      "outputs": [],
      "source": [
        "import matplotlib.pyplot as plt\n",
        "import seaborn as sns\n",
        "import pandas as pd\n",
        "\n",
        "# Assuming you have a valid dataframe named df1_and_df2\n",
        "plt.figure(figsize=(10, 6))\n",
        "sns.barplot(x='genres', y='averagerating', data=df1_and_df2.head(10), palette='viridis')\n",
        "plt.title('Average Rating by Genre')\n",
        "plt.xlabel('Genre')\n",
        "plt.ylabel('Average Rating')\n",
        "plt.show()"
      ]
    },
    {
      "cell_type": "markdown",
      "metadata": {
        "id": "zoLlnwc2EGEp"
      },
      "source": [
        "**Genre with the highest Runtime Minutes**"
      ]
    },
    {
      "cell_type": "code",
      "execution_count": null,
      "metadata": {
        "id": "v3nJU4DJKacY"
      },
      "outputs": [],
      "source": [
        "df1_and_df2.groupby('genres')['runtime_minutes'].mean().sort_values(ascending=False)"
      ]
    },
    {
      "cell_type": "markdown",
      "metadata": {
        "id": "mi9TrCeXE2re"
      },
      "source": [
        "**Visualize using a Bargraph**"
      ]
    },
    {
      "cell_type": "code",
      "execution_count": null,
      "metadata": {
        "id": "0MmH52ifFjFj"
      },
      "outputs": [],
      "source": [
        "#import seaborn as sns\n",
        "import seaborn as sns\n",
        "import matplotlib.pyplot as plt\n",
        "#Create a bargraph\n",
        "plt.figure(figsize=(10,6))\n",
        "sns.barplot(x='genres',y='runtime_minutes',data=df1_and_df2.head(10),palette='viridis')\n",
        "plt.title('Genre with the Highest Runtime Minutes')\n",
        "plt.xlabel('Genre')\n",
        "plt.ylabel('Runtime Minutes')\n",
        "plt.show"
      ]
    },
    {
      "cell_type": "code",
      "execution_count": null,
      "metadata": {
        "id": "kh-Mt21RP2vl"
      },
      "outputs": [],
      "source": []
    },
    {
      "cell_type": "markdown",
      "metadata": {
        "id": "nWnJ64NlOnj_"
      },
      "source": [
        "identify the Genre with the Highest 'numvotes'"
      ]
    },
    {
      "cell_type": "code",
      "execution_count": null,
      "metadata": {
        "id": "OTbF39OwQwJm"
      },
      "outputs": [],
      "source": [
        "df1_and_df2.groupby('genres')['numvotes'].mean().sort_values(ascending=False)\n"
      ]
    },
    {
      "cell_type": "markdown",
      "metadata": {
        "id": "LkWiAmz0Q6zu"
      },
      "source": [
        "Represent this Information using a scatterplot"
      ]
    },
    {
      "cell_type": "code",
      "execution_count": null,
      "metadata": {
        "id": "PDDQd2-9RGmS"
      },
      "outputs": [],
      "source": [
        "#import Matplotlib\n",
        "import matplotlib.pyplot as plt\n",
        "#Create a scatterplot\n",
        "plt.figure(figsize=(10,6))\n",
        "sns.scatterplot(x='genres',y='numvotes',data=df1_and_df2.head(10),palette='viridis')\n"
      ]
    },
    {
      "cell_type": "code",
      "execution_count": null,
      "metadata": {
        "id": "K0qmAPXRQ6SN"
      },
      "outputs": [],
      "source": []
    },
    {
      "cell_type": "markdown",
      "metadata": {
        "id": "Et6s-aGpRvqd"
      },
      "source": [
        "The genre with the highest numvotes is Drama."
      ]
    },
    {
      "cell_type": "code",
      "execution_count": null,
      "metadata": {
        "id": "Rt45qKPmVp1I"
      },
      "outputs": [],
      "source": []
    },
    {
      "cell_type": "markdown",
      "metadata": {
        "id": "G-m3RF39SEJ6"
      },
      "source": [
        "Let us figure out the relations between the following columns:\n",
        "1.runtime minutes and primary title\n",
        "2.num_votes and averagerating\n",
        "3.runtime minutes and numvotes"
      ]
    },
    {
      "cell_type": "code",
      "execution_count": null,
      "metadata": {
        "id": "BEt-t8oHPqeH"
      },
      "outputs": [],
      "source": [
        "df1_and_df2.columns"
      ]
    },
    {
      "cell_type": "code",
      "execution_count": null,
      "metadata": {
        "id": "a0T7TjhJWoKu"
      },
      "outputs": [],
      "source": [
        "#correlation between runtime minutes and primary title\n",
        "corelation=df1_and_df2['runtime_minutes'].corr(df1_and_df2['averagerating'])\n",
        "print(corelation)"
      ]
    },
    {
      "cell_type": "code",
      "execution_count": null,
      "metadata": {
        "id": "99thPEbWjiUr"
      },
      "outputs": [],
      "source": []
    },
    {
      "cell_type": "markdown",
      "metadata": {
        "id": "Aa3QpbwNXrvC"
      },
      "source": [
        "This indicates that there is little correlation between runtime_minutes and averagerating\n",
        "\n"
      ]
    },
    {
      "cell_type": "markdown",
      "metadata": {
        "id": "T819LrgkXrnk"
      },
      "source": []
    },
    {
      "cell_type": "code",
      "execution_count": null,
      "metadata": {
        "id": "AYb9HZZkdTal"
      },
      "outputs": [],
      "source": [
        "df1_and_df2.dtypes"
      ]
    },
    {
      "cell_type": "code",
      "execution_count": null,
      "metadata": {
        "id": "KKrXdbL2dzeT"
      },
      "outputs": [],
      "source": [
        "#correlation between runtimeminutes and numvotes\n",
        "correlation=df1_and_df2['runtime_minutes'].corr(df1_and_df2['numvotes'])\n",
        "print(correlation)"
      ]
    },
    {
      "cell_type": "markdown",
      "metadata": {
        "id": "zTx0I37Bh8tL"
      },
      "source": [
        "There is little correlation between run timeminutes and numvotes"
      ]
    },
    {
      "cell_type": "code",
      "execution_count": null,
      "metadata": {
        "id": "hT9H0D_7f-k1"
      },
      "outputs": [],
      "source": [
        "#correlation between runtime minutes and averagerating\n",
        "#convert average rating to numeric\n",
        "df1_and_df2['averagerating']=pd.to_numeric(df1_and_df2['averagerating'],errors='coerce')\n",
        "#calculate correlation\n",
        "correlation=df1_and_df2['runtime_minutes'].corr(df1_and_df2['averagerating'])\n",
        "print(correlation)"
      ]
    },
    {
      "cell_type": "markdown",
      "metadata": {
        "id": "T5z1n82VgS7l"
      },
      "source": [
        "The correlation between runtime minutes and average rating is negative"
      ]
    },
    {
      "cell_type": "code",
      "execution_count": null,
      "metadata": {
        "id": "f423Ie7QZWCN"
      },
      "outputs": [],
      "source": [
        "#correlation between numvotes and averagerating\n",
        "#convert average rating to numeric\n",
        "df1_and_df2['averagerating']=pd.to_numeric(df1_and_df2['averagerating'],errors='coerce')\n",
        "#calculate correlation\n",
        "correlation=df1_and_df2['numvotes'].corr(df1_and_df2['averagerating'])\n",
        "print(correlation)"
      ]
    },
    {
      "cell_type": "markdown",
      "metadata": {
        "id": "7Wr-X0vEhSe0"
      },
      "source": [
        "The correlation between numvotes and average rating is little"
      ]
    },
    {
      "cell_type": "code",
      "execution_count": null,
      "metadata": {
        "id": "P3gDr98PT14L"
      },
      "outputs": [],
      "source": [
        "df1_and_df2.head(10)"
      ]
    },
    {
      "cell_type": "markdown",
      "metadata": {
        "id": "_7Vfv9ljkREF"
      },
      "source": [
        "# Present the Correlations using Correlations Heatmap."
      ]
    },
    {
      "cell_type": "code",
      "execution_count": null,
      "metadata": {
        "id": "EuZCu-hlkslr"
      },
      "outputs": [],
      "source": [
        "#import Pandas,seaborn and Matplotlib\n",
        "import pandas as pd\n",
        "import seaborn as sns\n",
        "import matplotlib.pyplot as plt\n",
        "\n",
        "# Identify non-numeric columns\n",
        "non_numeric_cols = df1_and_df2.select_dtypes(exclude=['number']).columns\n",
        "print(\"Non-numeric columns:\", non_numeric_cols)\n",
        "\n",
        "# Attempt to convert non-numeric columns to numeric, handling errors\n",
        "for col in non_numeric_cols:\n",
        "    try:\n",
        "        df1_and_df2[col] = pd.to_numeric(df1_and_df2[col], errors='coerce')\n",
        "    except ValueError as e:\n",
        "        print(f\"Conversion error in column {col}: {e}\")\n",
        "\n",
        "# Create a Correlations Heatmap\n",
        "plt.figure(figsize=(10,6))\n",
        "sns.heatmap(df1_and_df2.corr(),annot=True,cmap='coolwarm')\n",
        "plt.title('Correlations Heatmap')\n",
        "plt.show()"
      ]
    }
  ],
  "metadata": {
    "colab": {
      "provenance": [],
      "include_colab_link": true
    },
    "kernelspec": {
      "display_name": "Python 3",
      "name": "python3"
    },
    "language_info": {
      "codemirror_mode": {
        "name": "ipython",
        "version": 3
      },
      "file_extension": ".py",
      "mimetype": "text/x-python",
      "name": "python",
      "nbconvert_exporter": "python",
      "pygments_lexer": "ipython3",
      "version": "3.6.4"
    }
  },
  "nbformat": 4,
  "nbformat_minor": 0
}